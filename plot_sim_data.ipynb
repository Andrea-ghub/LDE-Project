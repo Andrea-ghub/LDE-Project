{
 "cells": [
  {
   "cell_type": "code",
   "execution_count": 4,
   "metadata": {},
   "outputs": [],
   "source": [
    "import numpy as np\n",
    "import matplotlib.pyplot as plt\n",
    "import pandas as pd\n",
    "from matplotlib import cm"
   ]
  },
  {
   "cell_type": "code",
   "execution_count": 2,
   "metadata": {},
   "outputs": [
    {
     "data": {
      "text/html": [
       "<div>\n",
       "<style scoped>\n",
       "    .dataframe tbody tr th:only-of-type {\n",
       "        vertical-align: middle;\n",
       "    }\n",
       "\n",
       "    .dataframe tbody tr th {\n",
       "        vertical-align: top;\n",
       "    }\n",
       "\n",
       "    .dataframe thead th {\n",
       "        text-align: right;\n",
       "    }\n",
       "</style>\n",
       "<table border=\"1\" class=\"dataframe\">\n",
       "  <thead>\n",
       "    <tr style=\"text-align: right;\">\n",
       "      <th></th>\n",
       "      <th>time</th>\n",
       "      <th>I</th>\n",
       "      <th>pol</th>\n",
       "      <th>r</th>\n",
       "      <th>ar</th>\n",
       "      <th>cc</th>\n",
       "      <th>kind</th>\n",
       "      <th>net_type</th>\n",
       "    </tr>\n",
       "  </thead>\n",
       "  <tbody>\n",
       "    <tr>\n",
       "      <th>0</th>\n",
       "      <td>0</td>\n",
       "      <td>5.00</td>\n",
       "      <td>0.1</td>\n",
       "      <td>0.1</td>\n",
       "      <td>724</td>\n",
       "      <td>0.049</td>\n",
       "      <td>mean</td>\n",
       "      <td>static</td>\n",
       "    </tr>\n",
       "    <tr>\n",
       "      <th>1</th>\n",
       "      <td>0</td>\n",
       "      <td>0.00</td>\n",
       "      <td>0.1</td>\n",
       "      <td>0.1</td>\n",
       "      <td>33</td>\n",
       "      <td>0.003</td>\n",
       "      <td>std</td>\n",
       "      <td>static</td>\n",
       "    </tr>\n",
       "    <tr>\n",
       "      <th>2</th>\n",
       "      <td>1</td>\n",
       "      <td>11.28</td>\n",
       "      <td>0.1</td>\n",
       "      <td>0.1</td>\n",
       "      <td>724</td>\n",
       "      <td>0.049</td>\n",
       "      <td>mean</td>\n",
       "      <td>static</td>\n",
       "    </tr>\n",
       "    <tr>\n",
       "      <th>3</th>\n",
       "      <td>1</td>\n",
       "      <td>2.74</td>\n",
       "      <td>0.1</td>\n",
       "      <td>0.1</td>\n",
       "      <td>33</td>\n",
       "      <td>0.003</td>\n",
       "      <td>std</td>\n",
       "      <td>static</td>\n",
       "    </tr>\n",
       "    <tr>\n",
       "      <th>4</th>\n",
       "      <td>2</td>\n",
       "      <td>44.44</td>\n",
       "      <td>0.1</td>\n",
       "      <td>0.1</td>\n",
       "      <td>724</td>\n",
       "      <td>0.049</td>\n",
       "      <td>mean</td>\n",
       "      <td>static</td>\n",
       "    </tr>\n",
       "  </tbody>\n",
       "</table>\n",
       "</div>"
      ],
      "text/plain": [
       "   time      I  pol    r   ar     cc  kind net_type\n",
       "0     0   5.00  0.1  0.1  724  0.049  mean   static\n",
       "1     0   0.00  0.1  0.1   33  0.003   std   static\n",
       "2     1  11.28  0.1  0.1  724  0.049  mean   static\n",
       "3     1   2.74  0.1  0.1   33  0.003   std   static\n",
       "4     2  44.44  0.1  0.1  724  0.049  mean   static"
      ]
     },
     "execution_count": 2,
     "metadata": {},
     "output_type": "execute_result"
    }
   ],
   "source": [
    "data_df = pd.read_csv('SIR_simulation.csv')\n",
    "data_df.head()"
   ]
  },
  {
   "cell_type": "code",
   "execution_count": 3,
   "metadata": {},
   "outputs": [],
   "source": [
    "mask1 = (data_df.net_type == 'static') & (data_df.kind == 'mean')\n",
    "mask2 = (data_df.net_type == 'static') & (data_df.kind == 'std')\n",
    "mask3 = (data_df.net_type == 'dynamic') & (data_df.kind == 'mean')\n",
    "mask4 = (data_df.net_type == 'dynamic') & (data_df.kind == 'std')\n",
    "\n",
    "static_mean = data_df[mask1].filter(items=['time', 'I'])\n",
    "static_std = data_df[mask2].filter(items=['time', 'I'])\n",
    "dynamic_mean = data_df[mask3].filter(items=['time', 'I'])\n",
    "dynamic_std = data_df[mask4].filter(items=['time', 'I'])"
   ]
  },
  {
   "cell_type": "code",
   "execution_count": null,
   "metadata": {},
   "outputs": [],
   "source": [
    "colors = cm.get_cmap('winter', 2)\n",
    "fig, ax = plt.subplots(nrows=9, ncols=9, figsize=(20,20))\n",
    "pol_list = np.arange(0.1, 1., 0.1)\n",
    "r_list = np.arange(0.1, 1., 0.1)\n",
    "for i, pol in enumerate(pol_list):\n",
    "    for j, r in enumerate(r_list):\n",
    "        mask1 = (static_mean.r == r) & (static_mean.pol == pol)\n",
    "        mask2 = (static_std.r == r) & (static_std.pol == pol)\n",
    "        mask3 = (dynamic_mean.r == r) & (dynamic_mean.pol == pol)\n",
    "        mask4 = (dynamic_std.r == r) & (dynamic_std.pol == pol)\n",
    "        ax_stat_mean = static_mean[mask1].set_index('time')\n",
    "        ax_stat_std = static_std[mask2].set_index('time')\n",
    "        ax_dyn_mean = dynamic_mean[mask3].set_index('time')\n",
    "        ax_dyn_std = dynamic_std[mask4].set_index('time')\n",
    "\n",
    "        ax[i,j].set_title(f'polarization = {pol}, vaccination rate = {r}')\n",
    "        ax.set_xlabel('time')\n",
    "        ax.set_ylabel('Prevalence')\n",
    "        ax[i,j].fill_between(ax_stat_mean.index, ax_stat_mean - ax_stat_std, ax_stat_mean + ax_stat_std, col)\n",
    "\n"
   ]
  }
 ],
 "metadata": {
  "interpreter": {
   "hash": "220f1ee985561bbe10475f2e98f93cb1078a5d43d8a61b38cc246abb759fe5d0"
  },
  "kernelspec": {
   "display_name": "Python 3.8.5 64-bit ('base': conda)",
   "language": "python",
   "name": "python3"
  },
  "language_info": {
   "codemirror_mode": {
    "name": "ipython",
    "version": 3
   },
   "file_extension": ".py",
   "mimetype": "text/x-python",
   "name": "python",
   "nbconvert_exporter": "python",
   "pygments_lexer": "ipython3",
   "version": "3.8.5"
  },
  "orig_nbformat": 4
 },
 "nbformat": 4,
 "nbformat_minor": 2
}
